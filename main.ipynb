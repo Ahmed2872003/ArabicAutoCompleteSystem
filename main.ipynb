{
 "cells": [
  {
   "cell_type": "code",
   "execution_count": 1,
   "id": "4d7c25f7",
   "metadata": {},
   "outputs": [
    {
     "name": "stderr",
     "output_type": "stream",
     "text": [
      "c:\\Users\\ahmed\\AppData\\Local\\Programs\\Python\\Python311\\Lib\\site-packages\\tqdm\\auto.py:21: TqdmWarning: IProgress not found. Please update jupyter and ipywidgets. See https://ipywidgets.readthedocs.io/en/stable/user_install.html\n",
      "  from .autonotebook import tqdm as notebook_tqdm\n"
     ]
    }
   ],
   "source": [
    "from transformers import GPT2LMHeadModel, GPT2Tokenizer\n",
    "import torch\n",
    "\n",
    "\n",
    "model_name = \"aragpt2_finetuned/checkpoint-14388\"\n",
    "model = GPT2LMHeadModel.from_pretrained(model_name)\n",
    "tokenizer = GPT2Tokenizer.from_pretrained(model_name)\n"
   ]
  },
  {
   "cell_type": "code",
   "execution_count": 16,
   "id": "cc5a21bf",
   "metadata": {},
   "outputs": [],
   "source": [
    "\n",
    "def generate_sentences(input_sentence, num_sentences=5):\n",
    "\n",
    "    input_ids = tokenizer.encode(input_sentence, return_tensors=\"pt\")\n",
    "    input_length = input_ids.shape[1]\n",
    "\n",
    "    with torch.no_grad():\n",
    "        output_ids = model.generate(\n",
    "            input_ids,\n",
    "            max_length=input_length + 10,  # Allow a few tokens to form one word\n",
    "            num_return_sequences=num_sentences,\n",
    "            do_sample=True,\n",
    "            top_k=50,\n",
    "            top_p=0.95,\n",
    "            temperature=1.0,\n",
    "            pad_token_id=tokenizer.eos_token_id,\n",
    "            eos_token_id=tokenizer.eos_token_id\n",
    "        )\n",
    "\n",
    "    predictions = set([])\n",
    "\n",
    "    for output_id in output_ids:\n",
    "      # Decode the full output      \n",
    "      generated_text =  tokenizer.decode(output_id, skip_special_tokens=True).strip()\n",
    "\n",
    "      # Cut off at one word after the input\n",
    "      new_part = generated_text[len(input_sentence):].strip()\n",
    "      next_word = new_part.split()[0] if new_part else \"\"\n",
    "\n",
    "      full_sentence = input_sentence.strip() + \" \" + next_word\n",
    "\n",
    "      predictions.add(full_sentence)\n",
    "      \n",
    "    return list(predictions)\n"
   ]
  },
  {
   "cell_type": "code",
   "execution_count": null,
   "id": "9f06bd39",
   "metadata": {},
   "outputs": [],
   "source": []
  }
 ],
 "metadata": {
  "kernelspec": {
   "display_name": "Python 3",
   "language": "python",
   "name": "python3"
  },
  "language_info": {
   "codemirror_mode": {
    "name": "ipython",
    "version": 3
   },
   "file_extension": ".py",
   "mimetype": "text/x-python",
   "name": "python",
   "nbconvert_exporter": "python",
   "pygments_lexer": "ipython3",
   "version": "3.11.4"
  }
 },
 "nbformat": 4,
 "nbformat_minor": 5
}
